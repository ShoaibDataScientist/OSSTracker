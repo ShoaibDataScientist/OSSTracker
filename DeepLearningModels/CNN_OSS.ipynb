{
  "nbformat": 4,
  "nbformat_minor": 0,
  "metadata": {
    "colab": {
      "provenance": []
    },
    "kernelspec": {
      "name": "python3",
      "display_name": "Python 3"
    },
    "language_info": {
      "name": "python"
    }
  },
  "cells": [
    {
      "cell_type": "code",
      "source": [
        "import numpy as np\n",
        "import pandas as pd\n",
        "import xlrd as xl\n",
        "from pandas import ExcelWriter\n",
        "from pandas import ExcelFile\n",
        "import pickle, re, json, os, datetime, time\n",
        "\n",
        "import pprint\n",
        "pp = pprint.PrettyPrinter(indent=4)"
      ],
      "metadata": {
        "id": "L6RgyKdUGVXD"
      },
      "execution_count": 1,
      "outputs": []
    },
    {
      "cell_type": "code",
      "execution_count": 2,
      "metadata": {
        "colab": {
          "base_uri": "https://localhost:8080/"
        },
        "id": "d8P74sB5Egbr",
        "outputId": "52ce86b6-5630-4e18-f082-e847c6cd8153"
      },
      "outputs": [
        {
          "output_type": "stream",
          "name": "stdout",
          "text": [
            "Size of corpus: 4330\n"
          ]
        }
      ],
      "source": [
        "## Read the data from the pickle file\n",
        "all_data = pd.read_pickle('/content/all_data.pkl')\n",
        "print(\"Size of corpus: \"+str(len(all_data)))"
      ]
    },
    {
      "cell_type": "code",
      "source": [
        "## Get the set of all unique knowledge types in the corpus\n",
        "\n",
        "knowledge_types = list(set(all_data['Code']))\n",
        "print(\"Number of unique knowledge types: \"+str(len(knowledge_types)))\n",
        "knowledge_types.sort()\n",
        "\n",
        "pp.pprint(knowledge_types)"
      ],
      "metadata": {
        "colab": {
          "base_uri": "https://localhost:8080/"
        },
        "id": "yNkx98ELGoUd",
        "outputId": "42a3551d-d622-4b96-daf6-3feeb8dd2584"
      },
      "execution_count": 3,
      "outputs": [
        {
          "output_type": "stream",
          "name": "stdout",
          "text": [
            "Number of unique knowledge types: 13\n",
            "[   'Action on Issue',\n",
            "    'Bug Reproduction',\n",
            "    'Contribution and Commitment',\n",
            "    'Expected Behaviour',\n",
            "    'Investigation and Exploration',\n",
            "    'Motivation',\n",
            "    'Observed Bug Behaviour',\n",
            "    'Potential New Issues and Requests',\n",
            "    'Social Conversation',\n",
            "    'Solution Discussion',\n",
            "    'Task Progress',\n",
            "    'Usage',\n",
            "    'Workarounds']\n"
          ]
        }
      ]
    },
    {
      "cell_type": "code",
      "source": [
        "projects = ['tensorflow','scikit-learn','spaCy']\n",
        "for proj in projects:\n",
        "    print(\"Number of sentences from \"+proj+\"issues: \"+str(len(all_data[all_data.Document.str.contains(proj)])))"
      ],
      "metadata": {
        "colab": {
          "base_uri": "https://localhost:8080/"
        },
        "id": "6jxc2xC6Gs12",
        "outputId": "f393ed27-3dce-410f-b88f-aebd6ca44cc5"
      },
      "execution_count": 4,
      "outputs": [
        {
          "output_type": "stream",
          "name": "stdout",
          "text": [
            "Number of sentences from tensorflowissues: 2100\n",
            "Number of sentences from scikit-learnissues: 1401\n",
            "Number of sentences from spaCyissues: 829\n"
          ]
        }
      ]
    },
    {
      "cell_type": "code",
      "source": [
        "all_data.iloc[0:3]"
      ],
      "metadata": {
        "colab": {
          "base_uri": "https://localhost:8080/",
          "height": 329
        },
        "id": "yKO3tM4jGv0n",
        "outputId": "00ac7ccc-e15b-4c72-d9a7-0057ab8fad1d"
      },
      "execution_count": 5,
      "outputs": [
        {
          "output_type": "execute_result",
          "data": {
            "text/plain": [
              "              Document                      Text Content                 Code  \\\n",
              "0  1 37_tensorflow.doc  Node.js (JavaScript) Wrapper API   Expected Behaviour   \n",
              "1  1 37_tensorflow.doc     Because JavaScript is Awesome           Motivation   \n",
              "2  1 37_tensorflow.doc                               +1!  Social Conversation   \n",
              "\n",
              "  Full Length len tloc      cloc     tpos1     tpos2 clen      tlen      ppau  \\\n",
              "0          32  32  0.5  0.002294       0.0  1.000000  1.0  0.055556       0.0   \n",
              "1          29  29  1.0  0.004587       0.0  1.000000  1.0  0.055556       0.0   \n",
              "2           3   3  1.0  0.006881  0.000026  0.999974  1.0  0.013889  0.000465   \n",
              "\n",
              "       npau    aa begauth has_code first_turn last_turn  \n",
              "0  0.000465  NONE    True    False       True     False  \n",
              "1  0.000465  NONE    True    False       True     False  \n",
              "2  0.000916  NONE   False    False      False     False  "
            ],
            "text/html": [
              "\n",
              "  <div id=\"df-8b7766a6-7cbe-4942-9f40-0d35bff1ed31\">\n",
              "    <div class=\"colab-df-container\">\n",
              "      <div>\n",
              "<style scoped>\n",
              "    .dataframe tbody tr th:only-of-type {\n",
              "        vertical-align: middle;\n",
              "    }\n",
              "\n",
              "    .dataframe tbody tr th {\n",
              "        vertical-align: top;\n",
              "    }\n",
              "\n",
              "    .dataframe thead th {\n",
              "        text-align: right;\n",
              "    }\n",
              "</style>\n",
              "<table border=\"1\" class=\"dataframe\">\n",
              "  <thead>\n",
              "    <tr style=\"text-align: right;\">\n",
              "      <th></th>\n",
              "      <th>Document</th>\n",
              "      <th>Text Content</th>\n",
              "      <th>Code</th>\n",
              "      <th>Full Length</th>\n",
              "      <th>len</th>\n",
              "      <th>tloc</th>\n",
              "      <th>cloc</th>\n",
              "      <th>tpos1</th>\n",
              "      <th>tpos2</th>\n",
              "      <th>clen</th>\n",
              "      <th>tlen</th>\n",
              "      <th>ppau</th>\n",
              "      <th>npau</th>\n",
              "      <th>aa</th>\n",
              "      <th>begauth</th>\n",
              "      <th>has_code</th>\n",
              "      <th>first_turn</th>\n",
              "      <th>last_turn</th>\n",
              "    </tr>\n",
              "  </thead>\n",
              "  <tbody>\n",
              "    <tr>\n",
              "      <th>0</th>\n",
              "      <td>1 37_tensorflow.doc</td>\n",
              "      <td>Node.js (JavaScript) Wrapper API</td>\n",
              "      <td>Expected Behaviour</td>\n",
              "      <td>32</td>\n",
              "      <td>32</td>\n",
              "      <td>0.5</td>\n",
              "      <td>0.002294</td>\n",
              "      <td>0.0</td>\n",
              "      <td>1.000000</td>\n",
              "      <td>1.0</td>\n",
              "      <td>0.055556</td>\n",
              "      <td>0.0</td>\n",
              "      <td>0.000465</td>\n",
              "      <td>NONE</td>\n",
              "      <td>True</td>\n",
              "      <td>False</td>\n",
              "      <td>True</td>\n",
              "      <td>False</td>\n",
              "    </tr>\n",
              "    <tr>\n",
              "      <th>1</th>\n",
              "      <td>1 37_tensorflow.doc</td>\n",
              "      <td>Because JavaScript is Awesome</td>\n",
              "      <td>Motivation</td>\n",
              "      <td>29</td>\n",
              "      <td>29</td>\n",
              "      <td>1.0</td>\n",
              "      <td>0.004587</td>\n",
              "      <td>0.0</td>\n",
              "      <td>1.000000</td>\n",
              "      <td>1.0</td>\n",
              "      <td>0.055556</td>\n",
              "      <td>0.0</td>\n",
              "      <td>0.000465</td>\n",
              "      <td>NONE</td>\n",
              "      <td>True</td>\n",
              "      <td>False</td>\n",
              "      <td>True</td>\n",
              "      <td>False</td>\n",
              "    </tr>\n",
              "    <tr>\n",
              "      <th>2</th>\n",
              "      <td>1 37_tensorflow.doc</td>\n",
              "      <td>+1!</td>\n",
              "      <td>Social Conversation</td>\n",
              "      <td>3</td>\n",
              "      <td>3</td>\n",
              "      <td>1.0</td>\n",
              "      <td>0.006881</td>\n",
              "      <td>0.000026</td>\n",
              "      <td>0.999974</td>\n",
              "      <td>1.0</td>\n",
              "      <td>0.013889</td>\n",
              "      <td>0.000465</td>\n",
              "      <td>0.000916</td>\n",
              "      <td>NONE</td>\n",
              "      <td>False</td>\n",
              "      <td>False</td>\n",
              "      <td>False</td>\n",
              "      <td>False</td>\n",
              "    </tr>\n",
              "  </tbody>\n",
              "</table>\n",
              "</div>\n",
              "      <button class=\"colab-df-convert\" onclick=\"convertToInteractive('df-8b7766a6-7cbe-4942-9f40-0d35bff1ed31')\"\n",
              "              title=\"Convert this dataframe to an interactive table.\"\n",
              "              style=\"display:none;\">\n",
              "        \n",
              "  <svg xmlns=\"http://www.w3.org/2000/svg\" height=\"24px\"viewBox=\"0 0 24 24\"\n",
              "       width=\"24px\">\n",
              "    <path d=\"M0 0h24v24H0V0z\" fill=\"none\"/>\n",
              "    <path d=\"M18.56 5.44l.94 2.06.94-2.06 2.06-.94-2.06-.94-.94-2.06-.94 2.06-2.06.94zm-11 1L8.5 8.5l.94-2.06 2.06-.94-2.06-.94L8.5 2.5l-.94 2.06-2.06.94zm10 10l.94 2.06.94-2.06 2.06-.94-2.06-.94-.94-2.06-.94 2.06-2.06.94z\"/><path d=\"M17.41 7.96l-1.37-1.37c-.4-.4-.92-.59-1.43-.59-.52 0-1.04.2-1.43.59L10.3 9.45l-7.72 7.72c-.78.78-.78 2.05 0 2.83L4 21.41c.39.39.9.59 1.41.59.51 0 1.02-.2 1.41-.59l7.78-7.78 2.81-2.81c.8-.78.8-2.07 0-2.86zM5.41 20L4 18.59l7.72-7.72 1.47 1.35L5.41 20z\"/>\n",
              "  </svg>\n",
              "      </button>\n",
              "      \n",
              "  <style>\n",
              "    .colab-df-container {\n",
              "      display:flex;\n",
              "      flex-wrap:wrap;\n",
              "      gap: 12px;\n",
              "    }\n",
              "\n",
              "    .colab-df-convert {\n",
              "      background-color: #E8F0FE;\n",
              "      border: none;\n",
              "      border-radius: 50%;\n",
              "      cursor: pointer;\n",
              "      display: none;\n",
              "      fill: #1967D2;\n",
              "      height: 32px;\n",
              "      padding: 0 0 0 0;\n",
              "      width: 32px;\n",
              "    }\n",
              "\n",
              "    .colab-df-convert:hover {\n",
              "      background-color: #E2EBFA;\n",
              "      box-shadow: 0px 1px 2px rgba(60, 64, 67, 0.3), 0px 1px 3px 1px rgba(60, 64, 67, 0.15);\n",
              "      fill: #174EA6;\n",
              "    }\n",
              "\n",
              "    [theme=dark] .colab-df-convert {\n",
              "      background-color: #3B4455;\n",
              "      fill: #D2E3FC;\n",
              "    }\n",
              "\n",
              "    [theme=dark] .colab-df-convert:hover {\n",
              "      background-color: #434B5C;\n",
              "      box-shadow: 0px 1px 3px 1px rgba(0, 0, 0, 0.15);\n",
              "      filter: drop-shadow(0px 1px 2px rgba(0, 0, 0, 0.3));\n",
              "      fill: #FFFFFF;\n",
              "    }\n",
              "  </style>\n",
              "\n",
              "      <script>\n",
              "        const buttonEl =\n",
              "          document.querySelector('#df-8b7766a6-7cbe-4942-9f40-0d35bff1ed31 button.colab-df-convert');\n",
              "        buttonEl.style.display =\n",
              "          google.colab.kernel.accessAllowed ? 'block' : 'none';\n",
              "\n",
              "        async function convertToInteractive(key) {\n",
              "          const element = document.querySelector('#df-8b7766a6-7cbe-4942-9f40-0d35bff1ed31');\n",
              "          const dataTable =\n",
              "            await google.colab.kernel.invokeFunction('convertToInteractive',\n",
              "                                                     [key], {});\n",
              "          if (!dataTable) return;\n",
              "\n",
              "          const docLinkHtml = 'Like what you see? Visit the ' +\n",
              "            '<a target=\"_blank\" href=https://colab.research.google.com/notebooks/data_table.ipynb>data table notebook</a>'\n",
              "            + ' to learn more about interactive tables.';\n",
              "          element.innerHTML = '';\n",
              "          dataTable['output_type'] = 'display_data';\n",
              "          await google.colab.output.renderOutput(dataTable, element);\n",
              "          const docLink = document.createElement('div');\n",
              "          docLink.innerHTML = docLinkHtml;\n",
              "          element.appendChild(docLink);\n",
              "        }\n",
              "      </script>\n",
              "    </div>\n",
              "  </div>\n",
              "  "
            ]
          },
          "metadata": {},
          "execution_count": 5
        }
      ]
    },
    {
      "cell_type": "markdown",
      "source": [
        "Transformation on the data:\n",
        "Drop Full Length\n",
        "Convert begauth which contains values True and False to One Hot Encoding\n",
        "Convert the time-based feature tpos2 to a numeric field."
      ],
      "metadata": {
        "id": "7Blo_aM8G7_C"
      }
    },
    {
      "cell_type": "code",
      "source": [
        "## Drop \"Full Length\"\n",
        "transformed_data = all_data[['Document','Text Content','Code','len','tloc','cloc','tpos1','tpos2','clen','tlen','ppau','npau','aa','begauth','has_code','first_turn','last_turn']]\n",
        "\n",
        "# Convert \"begauth\" which contains values `True` and `False` to One Hot Encoding\n",
        "transformed_data = pd.get_dummies(transformed_data,columns = ['begauth'])\n",
        "\n",
        "# Convert the time-based feature \"tpos2\" to a numeric field.\n",
        "transformed_data.tpos2.astype(int)\n",
        "\n",
        "print('Done')"
      ],
      "metadata": {
        "colab": {
          "base_uri": "https://localhost:8080/"
        },
        "id": "okskdG85G_MV",
        "outputId": "4ff540ae-34ab-44dc-8bd3-14076dbd7899"
      },
      "execution_count": 6,
      "outputs": [
        {
          "output_type": "stream",
          "name": "stdout",
          "text": [
            "Done\n"
          ]
        }
      ]
    },
    {
      "cell_type": "code",
      "source": [
        "transformed_data.iloc[0:1]"
      ],
      "metadata": {
        "colab": {
          "base_uri": "https://localhost:8080/",
          "height": 214
        },
        "id": "bwFm4ailHUNq",
        "outputId": "d9846496-bfff-4130-c63c-468f2862b57a"
      },
      "execution_count": 8,
      "outputs": [
        {
          "output_type": "execute_result",
          "data": {
            "text/plain": [
              "              Document                      Text Content                Code  \\\n",
              "0  1 37_tensorflow.doc  Node.js (JavaScript) Wrapper API  Expected Behaviour   \n",
              "\n",
              "  len tloc      cloc tpos1  tpos2 clen      tlen ppau      npau    aa  \\\n",
              "0  32  0.5  0.002294   0.0    1.0  1.0  0.055556  0.0  0.000465  NONE   \n",
              "\n",
              "  has_code first_turn last_turn  begauth_False  begauth_True  \n",
              "0    False       True     False              0             1  "
            ],
            "text/html": [
              "\n",
              "  <div id=\"df-c616f42c-949b-4fc9-887c-b7a422e064e2\">\n",
              "    <div class=\"colab-df-container\">\n",
              "      <div>\n",
              "<style scoped>\n",
              "    .dataframe tbody tr th:only-of-type {\n",
              "        vertical-align: middle;\n",
              "    }\n",
              "\n",
              "    .dataframe tbody tr th {\n",
              "        vertical-align: top;\n",
              "    }\n",
              "\n",
              "    .dataframe thead th {\n",
              "        text-align: right;\n",
              "    }\n",
              "</style>\n",
              "<table border=\"1\" class=\"dataframe\">\n",
              "  <thead>\n",
              "    <tr style=\"text-align: right;\">\n",
              "      <th></th>\n",
              "      <th>Document</th>\n",
              "      <th>Text Content</th>\n",
              "      <th>Code</th>\n",
              "      <th>len</th>\n",
              "      <th>tloc</th>\n",
              "      <th>cloc</th>\n",
              "      <th>tpos1</th>\n",
              "      <th>tpos2</th>\n",
              "      <th>clen</th>\n",
              "      <th>tlen</th>\n",
              "      <th>ppau</th>\n",
              "      <th>npau</th>\n",
              "      <th>aa</th>\n",
              "      <th>has_code</th>\n",
              "      <th>first_turn</th>\n",
              "      <th>last_turn</th>\n",
              "      <th>begauth_False</th>\n",
              "      <th>begauth_True</th>\n",
              "    </tr>\n",
              "  </thead>\n",
              "  <tbody>\n",
              "    <tr>\n",
              "      <th>0</th>\n",
              "      <td>1 37_tensorflow.doc</td>\n",
              "      <td>Node.js (JavaScript) Wrapper API</td>\n",
              "      <td>Expected Behaviour</td>\n",
              "      <td>32</td>\n",
              "      <td>0.5</td>\n",
              "      <td>0.002294</td>\n",
              "      <td>0.0</td>\n",
              "      <td>1.0</td>\n",
              "      <td>1.0</td>\n",
              "      <td>0.055556</td>\n",
              "      <td>0.0</td>\n",
              "      <td>0.000465</td>\n",
              "      <td>NONE</td>\n",
              "      <td>False</td>\n",
              "      <td>True</td>\n",
              "      <td>False</td>\n",
              "      <td>0</td>\n",
              "      <td>1</td>\n",
              "    </tr>\n",
              "  </tbody>\n",
              "</table>\n",
              "</div>\n",
              "      <button class=\"colab-df-convert\" onclick=\"convertToInteractive('df-c616f42c-949b-4fc9-887c-b7a422e064e2')\"\n",
              "              title=\"Convert this dataframe to an interactive table.\"\n",
              "              style=\"display:none;\">\n",
              "        \n",
              "  <svg xmlns=\"http://www.w3.org/2000/svg\" height=\"24px\"viewBox=\"0 0 24 24\"\n",
              "       width=\"24px\">\n",
              "    <path d=\"M0 0h24v24H0V0z\" fill=\"none\"/>\n",
              "    <path d=\"M18.56 5.44l.94 2.06.94-2.06 2.06-.94-2.06-.94-.94-2.06-.94 2.06-2.06.94zm-11 1L8.5 8.5l.94-2.06 2.06-.94-2.06-.94L8.5 2.5l-.94 2.06-2.06.94zm10 10l.94 2.06.94-2.06 2.06-.94-2.06-.94-.94-2.06-.94 2.06-2.06.94z\"/><path d=\"M17.41 7.96l-1.37-1.37c-.4-.4-.92-.59-1.43-.59-.52 0-1.04.2-1.43.59L10.3 9.45l-7.72 7.72c-.78.78-.78 2.05 0 2.83L4 21.41c.39.39.9.59 1.41.59.51 0 1.02-.2 1.41-.59l7.78-7.78 2.81-2.81c.8-.78.8-2.07 0-2.86zM5.41 20L4 18.59l7.72-7.72 1.47 1.35L5.41 20z\"/>\n",
              "  </svg>\n",
              "      </button>\n",
              "      \n",
              "  <style>\n",
              "    .colab-df-container {\n",
              "      display:flex;\n",
              "      flex-wrap:wrap;\n",
              "      gap: 12px;\n",
              "    }\n",
              "\n",
              "    .colab-df-convert {\n",
              "      background-color: #E8F0FE;\n",
              "      border: none;\n",
              "      border-radius: 50%;\n",
              "      cursor: pointer;\n",
              "      display: none;\n",
              "      fill: #1967D2;\n",
              "      height: 32px;\n",
              "      padding: 0 0 0 0;\n",
              "      width: 32px;\n",
              "    }\n",
              "\n",
              "    .colab-df-convert:hover {\n",
              "      background-color: #E2EBFA;\n",
              "      box-shadow: 0px 1px 2px rgba(60, 64, 67, 0.3), 0px 1px 3px 1px rgba(60, 64, 67, 0.15);\n",
              "      fill: #174EA6;\n",
              "    }\n",
              "\n",
              "    [theme=dark] .colab-df-convert {\n",
              "      background-color: #3B4455;\n",
              "      fill: #D2E3FC;\n",
              "    }\n",
              "\n",
              "    [theme=dark] .colab-df-convert:hover {\n",
              "      background-color: #434B5C;\n",
              "      box-shadow: 0px 1px 3px 1px rgba(0, 0, 0, 0.15);\n",
              "      filter: drop-shadow(0px 1px 2px rgba(0, 0, 0, 0.3));\n",
              "      fill: #FFFFFF;\n",
              "    }\n",
              "  </style>\n",
              "\n",
              "      <script>\n",
              "        const buttonEl =\n",
              "          document.querySelector('#df-c616f42c-949b-4fc9-887c-b7a422e064e2 button.colab-df-convert');\n",
              "        buttonEl.style.display =\n",
              "          google.colab.kernel.accessAllowed ? 'block' : 'none';\n",
              "\n",
              "        async function convertToInteractive(key) {\n",
              "          const element = document.querySelector('#df-c616f42c-949b-4fc9-887c-b7a422e064e2');\n",
              "          const dataTable =\n",
              "            await google.colab.kernel.invokeFunction('convertToInteractive',\n",
              "                                                     [key], {});\n",
              "          if (!dataTable) return;\n",
              "\n",
              "          const docLinkHtml = 'Like what you see? Visit the ' +\n",
              "            '<a target=\"_blank\" href=https://colab.research.google.com/notebooks/data_table.ipynb>data table notebook</a>'\n",
              "            + ' to learn more about interactive tables.';\n",
              "          element.innerHTML = '';\n",
              "          dataTable['output_type'] = 'display_data';\n",
              "          await google.colab.output.renderOutput(dataTable, element);\n",
              "          const docLink = document.createElement('div');\n",
              "          docLink.innerHTML = docLinkHtml;\n",
              "          element.appendChild(docLink);\n",
              "        }\n",
              "      </script>\n",
              "    </div>\n",
              "  </div>\n",
              "  "
            ]
          },
          "metadata": {},
          "execution_count": 8
        }
      ]
    },
    {
      "cell_type": "markdown",
      "source": [
        "Notice that the field Full Length no longer exists and the field begauth has now been changed to begauth_False and begauth_True.\n",
        "\n"
      ],
      "metadata": {
        "id": "rv88OKF0HdVH"
      }
    },
    {
      "cell_type": "code",
      "source": [
        "from sklearn.model_selection import train_test_split\n",
        "\n",
        "X = transformed_data['Text Content']\n",
        "y = transformed_data['Code']\n",
        "\n",
        "X_train, X_test, y_train, y_test = train_test_split(X, y, test_size=0.2, random_state=0)\n"
      ],
      "metadata": {
        "id": "k8tVa5UkIcf5"
      },
      "execution_count": 10,
      "outputs": []
    },
    {
      "cell_type": "code",
      "source": [
        "X = transformed_data['Text Content']\n",
        "y = transformed_data['Code']\n",
        "\n",
        "X_train, X_test, y_train, y_test = train_test_split(X, y, test_size=0.2, random_state=10, shuffle=True)\n",
        "\n",
        "vectorizer = CountVectorizer()\n",
        "X_train_tf = vectorizer.fit_transform(X_train)\n",
        "X_test_tf = vectorizer.transform(X_test)\n",
        "\n",
        "clf = LogisticRegression()\n",
        "model = clf.fit(X_train_tf, y_train)\n",
        "y_pred = clf.predict(X_test_tf)\n",
        "\n",
        "print(classification_report(y_test, y_pred))"
      ],
      "metadata": {
        "colab": {
          "base_uri": "https://localhost:8080/"
        },
        "id": "DlBWHdRzOSvw",
        "outputId": "76513cce-2454-4705-f86d-a2133a748ed5"
      },
      "execution_count": 27,
      "outputs": [
        {
          "output_type": "stream",
          "name": "stdout",
          "text": [
            "                                   precision    recall  f1-score   support\n",
            "\n",
            "                  Action on Issue       0.67      0.29      0.40         7\n",
            "                 Bug Reproduction       0.49      0.36      0.42        55\n",
            "      Contribution and Commitment       0.50      0.24      0.32        17\n",
            "               Expected Behaviour       0.20      0.06      0.09        18\n",
            "    Investigation and Exploration       0.36      0.25      0.29        65\n",
            "                       Motivation       0.45      0.21      0.29        61\n",
            "           Observed Bug Behaviour       0.50      0.19      0.28        31\n",
            "Potential New Issues and Requests       0.37      0.20      0.26        49\n",
            "              Social Conversation       0.55      0.82      0.66       172\n",
            "              Solution Discussion       0.57      0.72      0.64       291\n",
            "                    Task Progress       0.31      0.24      0.27        21\n",
            "                            Usage       0.48      0.45      0.46        64\n",
            "                      Workarounds       0.00      0.00      0.00        15\n",
            "\n",
            "                         accuracy                           0.53       866\n",
            "                        macro avg       0.42      0.31      0.34       866\n",
            "                     weighted avg       0.49      0.53      0.49       866\n",
            "\n"
          ]
        }
      ]
    },
    {
      "cell_type": "code",
      "source": [
        "from sklearn.feature_extraction.text import TfidfVectorizer, CountVectorizer"
      ],
      "metadata": {
        "id": "8o2qhMbyItkX"
      },
      "execution_count": 12,
      "outputs": []
    },
    {
      "cell_type": "code",
      "source": [],
      "metadata": {
        "id": "f25iLg04KChb"
      },
      "execution_count": 19,
      "outputs": []
    },
    {
      "cell_type": "code",
      "source": [
        "from keras.models import Sequential\n",
        "from keras.layers import Dense, Dropout, Embedding, Conv1D, GlobalMaxPooling1D\n",
        "from keras.utils import pad_sequences\n",
        "from tensorflow.keras.preprocessing.sequence import pad_sequences\n",
        "from sklearn.preprocessing import LabelEncoder\n",
        "from keras.utils import to_categorical\n",
        "\n",
        "from sklearn.metrics import accuracy_score\n",
        "\n",
        "# Encode labels as integers\n",
        "le = LabelEncoder()\n",
        "y_train = le.fit_transform(y_train)\n",
        "y_test = le.transform(y_test)\n",
        "\n",
        "# Convert labels to one-hot encoding\n",
        "y_train = to_categorical(y_train, num_classes=13)\n",
        "y_test = to_categorical(y_test, num_classes=13)\n",
        "\n",
        "# Create a sequence of tokens from the text data\n",
        "max_sequence_length = 1000\n",
        "tokenizer = Tokenizer(num_words=5000)\n",
        "tokenizer.fit_on_texts(X_train)\n",
        "X_train_seq = tokenizer.texts_to_sequences(X_train)\n",
        "X_test_seq = tokenizer.texts_to_sequences(X_test)\n",
        "\n",
        "# Pad sequences to a fixed length\n",
        "X_train_pad = pad_sequences(X_train_seq, maxlen=max_sequence_length)\n",
        "X_test_pad = pad_sequences(X_test_seq, maxlen=max_sequence_length)\n",
        "\n",
        "# Define the model architecture\n",
        "model = Sequential()\n",
        "model.add(Embedding(input_dim=5000, output_dim=50, input_length=max_sequence_length))\n",
        "model.add(Conv1D(filters=128, kernel_size=5, activation='relu'))\n",
        "model.add(GlobalMaxPooling1D())\n",
        "model.add(Dense(units=64, activation='relu'))\n",
        "model.add(Dropout(rate=0.3))\n",
        "model.add(Dense(units=13, activation='softmax'))\n",
        "\n",
        "# Compile the model\n",
        "model.compile(loss='categorical_crossentropy', optimizer='adam', metrics=['accuracy'])\n",
        "\n",
        "# Train the model\n",
        "model.fit(X_train_pad, y_train, validation_data=(X_test_pad, y_test), epochs=10, batch_size=32)\n",
        "\n",
        "# Evaluate the model on test data\n",
        "y_pred = model.predict(X_test_pad)\n",
        "y_pred = np.argmax(y_pred, axis=1)\n",
        "y_test_decoded = np.argmax(y_test, axis=1)\n",
        "accuracy = accuracy_score(y_test_decoded, y_pred)\n",
        "print('Test accuracy:', accuracy)\n"
      ],
      "metadata": {
        "colab": {
          "base_uri": "https://localhost:8080/"
        },
        "id": "vPDyl17dMHgI",
        "outputId": "284ad20e-e7be-4bea-b792-c0e440909165"
      },
      "execution_count": 31,
      "outputs": [
        {
          "output_type": "stream",
          "name": "stdout",
          "text": [
            "Epoch 1/10\n",
            "109/109 [==============================] - 18s 154ms/step - loss: 2.2093 - accuracy: 0.3340 - val_loss: 1.9973 - val_accuracy: 0.4226\n",
            "Epoch 2/10\n",
            "109/109 [==============================] - 16s 148ms/step - loss: 1.9730 - accuracy: 0.4209 - val_loss: 1.8260 - val_accuracy: 0.4573\n",
            "Epoch 3/10\n",
            "109/109 [==============================] - 16s 148ms/step - loss: 1.7351 - accuracy: 0.4691 - val_loss: 1.7234 - val_accuracy: 0.4815\n",
            "Epoch 4/10\n",
            "109/109 [==============================] - 17s 155ms/step - loss: 1.4704 - accuracy: 0.5508 - val_loss: 1.6892 - val_accuracy: 0.4885\n",
            "Epoch 5/10\n",
            "109/109 [==============================] - 16s 146ms/step - loss: 1.2039 - accuracy: 0.6345 - val_loss: 1.7152 - val_accuracy: 0.4977\n",
            "Epoch 6/10\n",
            "109/109 [==============================] - 17s 153ms/step - loss: 0.9575 - accuracy: 0.7032 - val_loss: 1.7880 - val_accuracy: 0.4977\n",
            "Epoch 7/10\n",
            "109/109 [==============================] - 19s 173ms/step - loss: 0.7480 - accuracy: 0.7725 - val_loss: 1.9021 - val_accuracy: 0.4942\n",
            "Epoch 8/10\n",
            "109/109 [==============================] - 17s 156ms/step - loss: 0.5796 - accuracy: 0.8225 - val_loss: 2.0946 - val_accuracy: 0.4896\n",
            "Epoch 9/10\n",
            "109/109 [==============================] - 16s 147ms/step - loss: 0.4511 - accuracy: 0.8715 - val_loss: 2.2412 - val_accuracy: 0.4896\n",
            "Epoch 10/10\n",
            "109/109 [==============================] - 16s 147ms/step - loss: 0.3472 - accuracy: 0.9059 - val_loss: 2.4343 - val_accuracy: 0.4838\n",
            "28/28 [==============================] - 1s 38ms/step\n",
            "Test accuracy: 0.4838337182448037\n"
          ]
        }
      ]
    },
    {
      "cell_type": "code",
      "source": [
        "from sklearn.metrics import classification_report\n",
        "\n",
        "# Convert one-hot encoded test labels back to integer labels\n",
        "y_test_int = np.argmax(y_test, axis=1)\n",
        "\n",
        "# Generate predictions for test data\n",
        "y_pred = model.predict(X_test_pad)\n",
        "y_pred_int = np.argmax(y_pred, axis=1)\n",
        "\n",
        "# Print classification report\n",
        "print(classification_report(y_test_int, y_pred_int))\n"
      ],
      "metadata": {
        "colab": {
          "base_uri": "https://localhost:8080/"
        },
        "id": "TZ9cqpCUXMMz",
        "outputId": "f7e75474-65a7-4210-a707-ca8acf04f8d5"
      },
      "execution_count": 34,
      "outputs": [
        {
          "output_type": "stream",
          "name": "stdout",
          "text": [
            "28/28 [==============================] - 1s 38ms/step\n",
            "              precision    recall  f1-score   support\n",
            "\n",
            "           0       0.60      0.43      0.50         7\n",
            "           1       0.43      0.44      0.43        55\n",
            "           2       0.00      0.00      0.00        17\n",
            "           3       0.07      0.11      0.09        18\n",
            "           4       0.35      0.37      0.36        65\n",
            "           5       0.26      0.16      0.20        61\n",
            "           6       0.50      0.16      0.24        31\n",
            "           7       0.22      0.18      0.20        49\n",
            "           8       0.66      0.72      0.69       172\n",
            "           9       0.58      0.64      0.61       291\n",
            "          10       0.12      0.14      0.13        21\n",
            "          11       0.41      0.45      0.43        64\n",
            "          12       0.00      0.00      0.00        15\n",
            "\n",
            "    accuracy                           0.48       866\n",
            "   macro avg       0.32      0.29      0.30       866\n",
            "weighted avg       0.47      0.48      0.47       866\n",
            "\n"
          ]
        }
      ]
    }
  ]
}