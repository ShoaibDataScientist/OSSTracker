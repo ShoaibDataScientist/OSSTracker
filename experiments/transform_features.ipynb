{
 "cells": [
  {
   "cell_type": "markdown",
   "metadata": {},
   "source": [
    "# Transform Conversational Features into Usable Features for Text Classification Algorithms\n",
    "\n",
    "eg. convert Categorical features to One-Hot Encoding"
   ]
  },
  {
   "cell_type": "code",
   "execution_count": 1,
   "metadata": {},
   "outputs": [],
   "source": [
    "import numpy as np\n",
    "import pandas as pd\n",
    "import pprint\n",
    "import re\n",
    "import pickle\n",
    "import time, datetime\n",
    "\n",
    "pp = pprint.PrettyPrinter(indent=4)"
   ]
  },
  {
   "cell_type": "code",
   "execution_count": 2,
   "metadata": {},
   "outputs": [
    {
     "name": "stdout",
     "output_type": "stream",
     "text": [
      "Size of corpus: 4330\n",
      "Size of corpus: 4330\n"
     ]
    }
   ],
   "source": [
    "### Read from the pickled file\n",
    "#### (Sanity checking to make sure size of data in data_by_document and all_data are the same)\n",
    "data_by_document = pd.read_pickle('../data/data_by_document.pkl')\n",
    "\n",
    "sum = 0\n",
    "for k,v in data_by_document.items():\n",
    "    sum+=len(v)\n",
    "print(\"Size of corpus: \"+str(sum))\n",
    "\n",
    "all_data = pd.read_pickle('../data/all_data.pkl')\n",
    "print(\"Size of corpus: \"+str(len(all_data)))"
   ]
  },
  {
   "cell_type": "markdown",
   "metadata": {},
   "source": [
    "### Transformations:\n",
    "\n",
    "1. Drop Full Length\n",
    "2. Convert Categorical to One Hot\n",
    "3. Convert time-based features to numeric values\n",
    "\n",
    "The transformed data is stored in the file *text_conv_data.pkl*."
   ]
  },
  {
   "cell_type": "code",
   "execution_count": 3,
   "metadata": {},
   "outputs": [
    {
     "name": "stdout",
     "output_type": "stream",
     "text": [
      "Done\n"
     ]
    }
   ],
   "source": [
    "## Remove Full Length\n",
    "all_usable_data = all_data[['Document','Text Content','Code','len','tloc','cloc','tpos1','tpos2','clen','tlen','ppau','npau','aa','begauth','has_code','first_turn','last_turn']]\n",
    "\n",
    "all_usable_data = pd.get_dummies(all_usable_data,columns = ['aa','begauth','has_code','first_turn','last_turn'])\n",
    "all_usable_data.ppau.astype(int)\n",
    "all_usable_data.npau.astype(int)\n",
    "all_usable_data.tpos1.astype(int)\n",
    "all_usable_data.tpos2.astype(int)\n",
    "print('Done')"
   ]
  },
  {
   "cell_type": "code",
   "execution_count": 4,
   "metadata": {},
   "outputs": [
    {
     "data": {
      "text/html": [
       "<div>\n",
       "<style scoped>\n",
       "    .dataframe tbody tr th:only-of-type {\n",
       "        vertical-align: middle;\n",
       "    }\n",
       "\n",
       "    .dataframe tbody tr th {\n",
       "        vertical-align: top;\n",
       "    }\n",
       "\n",
       "    .dataframe thead th {\n",
       "        text-align: right;\n",
       "    }\n",
       "</style>\n",
       "<table border=\"1\" class=\"dataframe\">\n",
       "  <thead>\n",
       "    <tr style=\"text-align: right;\">\n",
       "      <th></th>\n",
       "      <th>Document</th>\n",
       "      <th>Text Content</th>\n",
       "      <th>Code</th>\n",
       "      <th>len</th>\n",
       "      <th>tloc</th>\n",
       "      <th>cloc</th>\n",
       "      <th>tpos1</th>\n",
       "      <th>tpos2</th>\n",
       "      <th>clen</th>\n",
       "      <th>tlen</th>\n",
       "      <th>...</th>\n",
       "      <th>aa_MEMBER</th>\n",
       "      <th>aa_NONE</th>\n",
       "      <th>begauth_False</th>\n",
       "      <th>begauth_True</th>\n",
       "      <th>has_code_False</th>\n",
       "      <th>has_code_True</th>\n",
       "      <th>first_turn_False</th>\n",
       "      <th>first_turn_True</th>\n",
       "      <th>last_turn_False</th>\n",
       "      <th>last_turn_True</th>\n",
       "    </tr>\n",
       "  </thead>\n",
       "  <tbody>\n",
       "    <tr>\n",
       "      <th>0</th>\n",
       "      <td>1 37_tensorflow.doc</td>\n",
       "      <td>Node.js (JavaScript) Wrapper API</td>\n",
       "      <td>Expected Behaviour</td>\n",
       "      <td>32</td>\n",
       "      <td>0.5</td>\n",
       "      <td>0.00229358</td>\n",
       "      <td>0</td>\n",
       "      <td>1.000000</td>\n",
       "      <td>1</td>\n",
       "      <td>0.0555556</td>\n",
       "      <td>...</td>\n",
       "      <td>0</td>\n",
       "      <td>1</td>\n",
       "      <td>0</td>\n",
       "      <td>1</td>\n",
       "      <td>1</td>\n",
       "      <td>0</td>\n",
       "      <td>0</td>\n",
       "      <td>1</td>\n",
       "      <td>1</td>\n",
       "      <td>0</td>\n",
       "    </tr>\n",
       "    <tr>\n",
       "      <th>1</th>\n",
       "      <td>1 37_tensorflow.doc</td>\n",
       "      <td>Because JavaScript is Awesome</td>\n",
       "      <td>Motivation</td>\n",
       "      <td>29</td>\n",
       "      <td>1</td>\n",
       "      <td>0.00458716</td>\n",
       "      <td>0</td>\n",
       "      <td>1.000000</td>\n",
       "      <td>1</td>\n",
       "      <td>0.0555556</td>\n",
       "      <td>...</td>\n",
       "      <td>0</td>\n",
       "      <td>1</td>\n",
       "      <td>0</td>\n",
       "      <td>1</td>\n",
       "      <td>1</td>\n",
       "      <td>0</td>\n",
       "      <td>0</td>\n",
       "      <td>1</td>\n",
       "      <td>1</td>\n",
       "      <td>0</td>\n",
       "    </tr>\n",
       "    <tr>\n",
       "      <th>2</th>\n",
       "      <td>1 37_tensorflow.doc</td>\n",
       "      <td>+1!</td>\n",
       "      <td>Social Conversation</td>\n",
       "      <td>3</td>\n",
       "      <td>1</td>\n",
       "      <td>0.00688073</td>\n",
       "      <td>2.58297e-05</td>\n",
       "      <td>0.999974</td>\n",
       "      <td>1</td>\n",
       "      <td>0.0138889</td>\n",
       "      <td>...</td>\n",
       "      <td>0</td>\n",
       "      <td>1</td>\n",
       "      <td>1</td>\n",
       "      <td>0</td>\n",
       "      <td>1</td>\n",
       "      <td>0</td>\n",
       "      <td>1</td>\n",
       "      <td>0</td>\n",
       "      <td>1</td>\n",
       "      <td>0</td>\n",
       "    </tr>\n",
       "  </tbody>\n",
       "</table>\n",
       "<p>3 rows × 24 columns</p>\n",
       "</div>"
      ],
      "text/plain": [
       "              Document                      Text Content                 Code  \\\n",
       "0  1 37_tensorflow.doc  Node.js (JavaScript) Wrapper API   Expected Behaviour   \n",
       "1  1 37_tensorflow.doc     Because JavaScript is Awesome           Motivation   \n",
       "2  1 37_tensorflow.doc                               +1!  Social Conversation   \n",
       "\n",
       "  len tloc        cloc        tpos1     tpos2 clen       tlen       ...        \\\n",
       "0  32  0.5  0.00229358            0  1.000000    1  0.0555556       ...         \n",
       "1  29    1  0.00458716            0  1.000000    1  0.0555556       ...         \n",
       "2   3    1  0.00688073  2.58297e-05  0.999974    1  0.0138889       ...         \n",
       "\n",
       "  aa_MEMBER aa_NONE  begauth_False  begauth_True  has_code_False  \\\n",
       "0         0       1              0             1               1   \n",
       "1         0       1              0             1               1   \n",
       "2         0       1              1             0               1   \n",
       "\n",
       "   has_code_True  first_turn_False  first_turn_True  last_turn_False  \\\n",
       "0              0                 0                1                1   \n",
       "1              0                 0                1                1   \n",
       "2              0                 1                0                1   \n",
       "\n",
       "   last_turn_True  \n",
       "0               0  \n",
       "1               0  \n",
       "2               0  \n",
       "\n",
       "[3 rows x 24 columns]"
      ]
     },
     "execution_count": 4,
     "metadata": {},
     "output_type": "execute_result"
    }
   ],
   "source": [
    "all_usable_data.iloc[0:3]"
   ]
  },
  {
   "cell_type": "code",
   "execution_count": 5,
   "metadata": {},
   "outputs": [],
   "source": [
    "# Save transformed features in pickle file\n",
    "all_usable_data.to_pickle('../data/text_conv_data.pkl')"
   ]
  }
 ],
 "metadata": {
  "kernelspec": {
   "display_name": "Python 3",
   "language": "python",
   "name": "python3"
  },
  "language_info": {
   "codemirror_mode": {
    "name": "ipython",
    "version": 3
   },
   "file_extension": ".py",
   "mimetype": "text/x-python",
   "name": "python",
   "nbconvert_exporter": "python",
   "pygments_lexer": "ipython3",
   "version": "3.6.7"
  }
 },
 "nbformat": 4,
 "nbformat_minor": 2
}
